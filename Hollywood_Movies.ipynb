{
  "nbformat": 4,
  "nbformat_minor": 0,
  "metadata": {
    "colab": {
      "provenance": [],
      "toc_visible": true,
      "authorship_tag": "ABX9TyOh4n0VM/Ir8OrNbHhfEWvk",
      "include_colab_link": true
    },
    "kernelspec": {
      "name": "python3",
      "display_name": "Python 3"
    },
    "language_info": {
      "name": "python"
    }
  },
  "cells": [
    {
      "cell_type": "markdown",
      "metadata": {
        "id": "view-in-github",
        "colab_type": "text"
      },
      "source": [
        "<a href=\"https://colab.research.google.com/github/pela-andrea/Hollywood_Movies/blob/main/Hollywood_Movies.ipynb\" target=\"_parent\"><img src=\"https://colab.research.google.com/assets/colab-badge.svg\" alt=\"Open In Colab\"/></a>"
      ]
    },
    {
      "cell_type": "markdown",
      "source": [
        "#Qual é o filme de maior sucesso de Hollywood de todos os tempos?\n"
      ],
      "metadata": {
        "id": "hhDP3uIwrlmM"
      }
    },
    {
      "cell_type": "markdown",
      "source": [
        "Storytelling\n"
      ],
      "metadata": {
        "id": "1g70OtkE9MLH"
      }
    },
    {
      "cell_type": "markdown",
      "metadata": {
        "id": "8652514b"
      },
      "source": [
        "# Checklist"
      ]
    },
    {
      "cell_type": "markdown",
      "metadata": {
        "id": "d762ae6a"
      },
      "source": [
        "1. Definição do Problema\n",
        "2. Obtenção dos Dados    \n",
        "3. Exploração dos Dados\n",
        "4. Preparação dos Dados\n",
        "5. Plotagem dos Dados\n",
        "6. Atribuição de Pontos\n",
        "7. Conclusão final"
      ]
    },
    {
      "cell_type": "markdown",
      "source": [
        "#1. Definição do Problema"
      ],
      "metadata": {
        "id": "iyP6Pa-tJ7A-"
      }
    },
    {
      "cell_type": "markdown",
      "source": [
        "\n",
        "Como vc saberia em quais filmes investir?\n",
        "Quais as licoes aprendidas de filmes que tiveram muito budget mas pouco profit, tu consegues identificar algo?\n",
        "Quais filmes tiveram mt profit e poucpo budget, existe algum padrao?"
      ],
      "metadata": {
        "id": "PII3M6owQFdk"
      }
    },
    {
      "cell_type": "markdown",
      "source": [
        "- Qual filme teve maior retorno no investimento?\n",
        "- Qual filme de ação (você vai ter que coletar mais dados, pois os filmes não tem label) teve mais sucesso?\n",
        "- Quais foram os melhores anos/décadas para os amantes da sétima arte?\n",
        "- e por aí vai...(sua criatividade é o limite)"
      ],
      "metadata": {
        "id": "c77CwOewcdfk"
      }
    },
    {
      "cell_type": "markdown",
      "source": [
        "Medir pela bilheteria bruta, é claro, privilegia filmes de grande sucesso com grandes orçamentos de marketing.\n",
        "\n",
        "Ao acompanhar o retorno do investimento, ou seja, a percentagem do orçamento recuperado, surgem alguns filmes diferentes e respostas diferentes para “qual é o filme de maior sucesso”"
      ],
      "metadata": {
        "id": "A6Oxnq--QaLs"
      }
    },
    {
      "cell_type": "markdown",
      "source": [],
      "metadata": {
        "id": "1F-NQMkpRNVk"
      }
    },
    {
      "cell_type": "markdown",
      "source": [
        "\n",
        "O filme \"Avatar\", dirigido por James Cameron e lançado em 2009, é frequentemente considerado o mais rentável do mundo em termos de bilheteria bruta total. No entanto, é importante destacar que a rentabilidade de um filme não é apenas medida pelo retorno sobre o investimento (ROI), mas também pela bilheteria bruta total e outros fatores.\n",
        "\n",
        "O ROI de um filme é calculado dividindo o lucro líquido pelo custo de produção. Um ROI mais alto indica que um filme gerou um lucro significativo em relação aos custos associados à sua produção e marketing. Embora \"Avatar\" tenha sido um filme de alto orçamento e tenha gerado uma bilheteria massiva, sua rentabilidade em termos de ROI pode não ser tão alta em comparação com alguns filmes de orçamento menor que conseguiram gerar grandes lucros em relação aos investimentos feitos.\n",
        "\n",
        "No caso de \"Avatar\", seu alto orçamento de produção e marketing pode ter afetado seu ROI, já que esses custos foram consideráveis. Por outro lado, o filme foi um enorme sucesso de bilheteria e conseguiu arrecadar bilhões de dólares em todo o mundo, o que contribui para seu status de filme mais rentável em termos de bilheteria bruta total.\n",
        "\n",
        "Além disso, a rentabilidade de um filme também pode ser influenciada por fatores como receitas de home video, direitos de transmissão em televisão e streaming, merchandising e outras fontes de renda associadas ao filme.\n",
        "\n",
        "Portanto, enquanto o ROI é uma métrica importante para avaliar a rentabilidade de um filme em relação aos seus custos de produção e marketing, a bilheteria bruta total e outros fatores também desempenham um papel significativo na determinação da percepção geral de um filme como \"rentável\"."
      ],
      "metadata": {
        "id": "Z23sqPNfRLzQ"
      }
    },
    {
      "cell_type": "code",
      "source": [],
      "metadata": {
        "id": "1Y-US_LQRLW1"
      },
      "execution_count": null,
      "outputs": []
    },
    {
      "cell_type": "markdown",
      "source": [
        "#2.Obtenção dos Dados\n",
        "No desafio Data Glow Up proposto pelo Heitor Sasaki, da semana XX.\n",
        "Acrescentar proposta\n",
        "Os dados foram obtidos do site:\n",
        "<a class=\"nav-link\" href=\"https://informationisbeautiful.net/visualizations/what-is-the-most-successful-hollywood-movie-of-all-time/\" target=\"_blank\">Most Sucessfull Movies of All Time</a><br>"
      ],
      "metadata": {
        "id": "YWPYXV22KhUc"
      }
    },
    {
      "cell_type": "markdown",
      "source": [
        "##Declaração das LIBS"
      ],
      "metadata": {
        "id": "8SwAyfjN9HmN"
      }
    },
    {
      "cell_type": "code",
      "source": [
        "pip install gcsfs"
      ],
      "metadata": {
        "colab": {
          "base_uri": "https://localhost:8080/"
        },
        "id": "FgJa3Mf09B_t",
        "outputId": "8538e462-df78-494a-9401-d482a76baf1f"
      },
      "execution_count": 1,
      "outputs": [
        {
          "output_type": "stream",
          "name": "stdout",
          "text": [
            "Requirement already satisfied: gcsfs in /usr/local/lib/python3.10/dist-packages (2023.6.0)\n",
            "Requirement already satisfied: aiohttp!=4.0.0a0,!=4.0.0a1 in /usr/local/lib/python3.10/dist-packages (from gcsfs) (3.8.5)\n",
            "Requirement already satisfied: decorator>4.1.2 in /usr/local/lib/python3.10/dist-packages (from gcsfs) (4.4.2)\n",
            "Requirement already satisfied: fsspec==2023.6.0 in /usr/local/lib/python3.10/dist-packages (from gcsfs) (2023.6.0)\n",
            "Requirement already satisfied: google-auth>=1.2 in /usr/local/lib/python3.10/dist-packages (from gcsfs) (2.17.3)\n",
            "Requirement already satisfied: google-auth-oauthlib in /usr/local/lib/python3.10/dist-packages (from gcsfs) (1.0.0)\n",
            "Requirement already satisfied: google-cloud-storage in /usr/local/lib/python3.10/dist-packages (from gcsfs) (2.8.0)\n",
            "Requirement already satisfied: requests in /usr/local/lib/python3.10/dist-packages (from gcsfs) (2.31.0)\n",
            "Requirement already satisfied: attrs>=17.3.0 in /usr/local/lib/python3.10/dist-packages (from aiohttp!=4.0.0a0,!=4.0.0a1->gcsfs) (23.1.0)\n",
            "Requirement already satisfied: charset-normalizer<4.0,>=2.0 in /usr/local/lib/python3.10/dist-packages (from aiohttp!=4.0.0a0,!=4.0.0a1->gcsfs) (3.2.0)\n",
            "Requirement already satisfied: multidict<7.0,>=4.5 in /usr/local/lib/python3.10/dist-packages (from aiohttp!=4.0.0a0,!=4.0.0a1->gcsfs) (6.0.4)\n",
            "Requirement already satisfied: async-timeout<5.0,>=4.0.0a3 in /usr/local/lib/python3.10/dist-packages (from aiohttp!=4.0.0a0,!=4.0.0a1->gcsfs) (4.0.3)\n",
            "Requirement already satisfied: yarl<2.0,>=1.0 in /usr/local/lib/python3.10/dist-packages (from aiohttp!=4.0.0a0,!=4.0.0a1->gcsfs) (1.9.2)\n",
            "Requirement already satisfied: frozenlist>=1.1.1 in /usr/local/lib/python3.10/dist-packages (from aiohttp!=4.0.0a0,!=4.0.0a1->gcsfs) (1.4.0)\n",
            "Requirement already satisfied: aiosignal>=1.1.2 in /usr/local/lib/python3.10/dist-packages (from aiohttp!=4.0.0a0,!=4.0.0a1->gcsfs) (1.3.1)\n",
            "Requirement already satisfied: cachetools<6.0,>=2.0.0 in /usr/local/lib/python3.10/dist-packages (from google-auth>=1.2->gcsfs) (5.3.1)\n",
            "Requirement already satisfied: pyasn1-modules>=0.2.1 in /usr/local/lib/python3.10/dist-packages (from google-auth>=1.2->gcsfs) (0.3.0)\n",
            "Requirement already satisfied: six>=1.9.0 in /usr/local/lib/python3.10/dist-packages (from google-auth>=1.2->gcsfs) (1.16.0)\n",
            "Requirement already satisfied: rsa<5,>=3.1.4 in /usr/local/lib/python3.10/dist-packages (from google-auth>=1.2->gcsfs) (4.9)\n",
            "Requirement already satisfied: requests-oauthlib>=0.7.0 in /usr/local/lib/python3.10/dist-packages (from google-auth-oauthlib->gcsfs) (1.3.1)\n",
            "Requirement already satisfied: google-api-core!=2.0.*,!=2.1.*,!=2.2.*,!=2.3.0,<3.0.0dev,>=1.31.5 in /usr/local/lib/python3.10/dist-packages (from google-cloud-storage->gcsfs) (2.11.1)\n",
            "Requirement already satisfied: google-cloud-core<3.0dev,>=2.3.0 in /usr/local/lib/python3.10/dist-packages (from google-cloud-storage->gcsfs) (2.3.3)\n",
            "Requirement already satisfied: google-resumable-media>=2.3.2 in /usr/local/lib/python3.10/dist-packages (from google-cloud-storage->gcsfs) (2.5.0)\n",
            "Requirement already satisfied: idna<4,>=2.5 in /usr/local/lib/python3.10/dist-packages (from requests->gcsfs) (3.4)\n",
            "Requirement already satisfied: urllib3<3,>=1.21.1 in /usr/local/lib/python3.10/dist-packages (from requests->gcsfs) (2.0.4)\n",
            "Requirement already satisfied: certifi>=2017.4.17 in /usr/local/lib/python3.10/dist-packages (from requests->gcsfs) (2023.7.22)\n",
            "Requirement already satisfied: googleapis-common-protos<2.0.dev0,>=1.56.2 in /usr/local/lib/python3.10/dist-packages (from google-api-core!=2.0.*,!=2.1.*,!=2.2.*,!=2.3.0,<3.0.0dev,>=1.31.5->google-cloud-storage->gcsfs) (1.60.0)\n",
            "Requirement already satisfied: protobuf!=3.20.0,!=3.20.1,!=4.21.0,!=4.21.1,!=4.21.2,!=4.21.3,!=4.21.4,!=4.21.5,<5.0.0.dev0,>=3.19.5 in /usr/local/lib/python3.10/dist-packages (from google-api-core!=2.0.*,!=2.1.*,!=2.2.*,!=2.3.0,<3.0.0dev,>=1.31.5->google-cloud-storage->gcsfs) (3.20.3)\n",
            "Requirement already satisfied: google-crc32c<2.0dev,>=1.0 in /usr/local/lib/python3.10/dist-packages (from google-resumable-media>=2.3.2->google-cloud-storage->gcsfs) (1.5.0)\n",
            "Requirement already satisfied: pyasn1<0.6.0,>=0.4.6 in /usr/local/lib/python3.10/dist-packages (from pyasn1-modules>=0.2.1->google-auth>=1.2->gcsfs) (0.5.0)\n",
            "Requirement already satisfied: oauthlib>=3.0.0 in /usr/local/lib/python3.10/dist-packages (from requests-oauthlib>=0.7.0->google-auth-oauthlib->gcsfs) (3.2.2)\n"
          ]
        }
      ]
    },
    {
      "cell_type": "code",
      "execution_count": 2,
      "metadata": {
        "id": "fZINkC3QkYsH",
        "colab": {
          "base_uri": "https://localhost:8080/"
        },
        "outputId": "55b55618-18eb-4f8d-f455-5da79fe376d9"
      },
      "outputs": [
        {
          "output_type": "stream",
          "name": "stdout",
          "text": [
            "Mounted at /content/drive\n"
          ]
        }
      ],
      "source": [
        "# Importando as bibliotecas\n",
        "import pandas as pd\n",
        "import numpy as np\n",
        "import matplotlib.pyplot as plt\n",
        "import seaborn as sns\n",
        "from datetime import datetime\n",
        "import matplotlib.pyplot as plt\n",
        "%matplotlib inline"
      ]
    },
    {
      "cell_type": "markdown",
      "source": [
        "##Configuração do pandas"
      ],
      "metadata": {
        "id": "KtfzpYEAfGkH"
      }
    },
    {
      "cell_type": "code",
      "source": [
        "pd.set_option('display.max_columns', 100)"
      ],
      "metadata": {
        "id": "Pa8EOwNufIun"
      },
      "execution_count": 3,
      "outputs": []
    },
    {
      "cell_type": "markdown",
      "source": [
        "##Importando o dataset"
      ],
      "metadata": {
        "id": "7g3yzOfM9Qfl"
      }
    },
    {
      "cell_type": "code",
      "source": [
        "# Dados de filmes\n",
        "df = pd.read_csv('/content/top500.csv')\n"
      ],
      "metadata": {
        "id": "I3K0Oee_k23V"
      },
      "execution_count": 27,
      "outputs": []
    },
    {
      "cell_type": "markdown",
      "source": [
        "#Exploração dos Dados\n"
      ],
      "metadata": {
        "id": "by5fVH9lL0g2"
      }
    },
    {
      "cell_type": "markdown",
      "source": [
        "##Dicionário dos Dados\n",
        "\n",
        "* title - Título\n",
        "* worldwide gross (m) - ganho bruto em milhões\n",
        "* % budget recovered -\n",
        "* X times budget recovered\t-\n",
        "* budget (millions) -\n",
        "* domestic gross (m) -\n",
        "* domestic % -\n",
        "* international gross (m)\n",
        "* % of gross from international -\n",
        "* worldwide gross -\n",
        "* year -\n",
        "* decade -\n"
      ],
      "metadata": {
        "id": "ipZeooW3LV-m"
      }
    },
    {
      "cell_type": "code",
      "source": [
        "df.head()"
      ],
      "metadata": {
        "colab": {
          "base_uri": "https://localhost:8080/",
          "height": 348
        },
        "id": "hQiKIQfiOzUH",
        "outputId": "89f84e90-e30e-4133-da35-b90d29cef72f"
      },
      "execution_count": 28,
      "outputs": [
        {
          "output_type": "execute_result",
          "data": {
            "text/plain": [
              "           title   worldwide gross (m) % budget recovered  \\\n",
              "0             300                456.0               702%   \n",
              "1            1917                385.0               427%   \n",
              "2            2012                791.0               396%   \n",
              "3  101 Dalmatians                321.0               479%   \n",
              "4  22 Jump Street                331.0               663%   \n",
              "\n",
              "   X times budget recovered  budget  (millions)  domestic gross (m)  \\\n",
              "0                       7.0                65.0               211.0   \n",
              "1                       4.3                90.0               159.0   \n",
              "2                       4.0               200.0               166.0   \n",
              "3                       4.8                67.0               136.0   \n",
              "4                       6.6                50.0               192.0   \n",
              "\n",
              "  domestic % international gross (m) % of gross from international  \\\n",
              "0      46.2%                     245                         53.8%   \n",
              "1      41.4%                     225                         58.6%   \n",
              "2      21.0%                     625                         79.0%   \n",
              "3      42.5%                     185                         57.5%   \n",
              "4      57.9%                     140                         42.1%   \n",
              "\n",
              "  worldwide gross  year  decade  \\\n",
              "0     456,082,343  2007  2000's   \n",
              "1     384,576,334  2019  2010's   \n",
              "2     791,217,826  2009  2000's   \n",
              "3     320,689,294  1996  1990's   \n",
              "4     331,333,876  2014  2010's   \n",
              "\n",
              "                                              source  \\\n",
              "0  https://www.boxofficemojo.com/chart/ww_top_lif...   \n",
              "1  https://www.boxofficemojo.com/chart/ww_top_lif...   \n",
              "2  https://www.boxofficemojo.com/chart/ww_top_lif...   \n",
              "3  https://www.boxofficemojo.com/chart/ww_top_lif...   \n",
              "4  https://www.boxofficemojo.com/chart/ww_top_lif...   \n",
              "\n",
              "                                       budget source force label      horror  \n",
              "0                                                NaN         NaN  not horror  \n",
              "1  https://www.nytimes.com/2020/01/12/movies/1917...         NaN  not horror  \n",
              "2                                                NaN         NaN  not horror  \n",
              "3  https://en.wikipedia.org/wiki/101_Dalmatians_(...         NaN  not horror  \n",
              "4                                                NaN         NaN  not horror  "
            ],
            "text/html": [
              "\n",
              "  <div id=\"df-cd93909e-18a3-4014-974c-b5b44dfa24ff\" class=\"colab-df-container\">\n",
              "    <div>\n",
              "<style scoped>\n",
              "    .dataframe tbody tr th:only-of-type {\n",
              "        vertical-align: middle;\n",
              "    }\n",
              "\n",
              "    .dataframe tbody tr th {\n",
              "        vertical-align: top;\n",
              "    }\n",
              "\n",
              "    .dataframe thead th {\n",
              "        text-align: right;\n",
              "    }\n",
              "</style>\n",
              "<table border=\"1\" class=\"dataframe\">\n",
              "  <thead>\n",
              "    <tr style=\"text-align: right;\">\n",
              "      <th></th>\n",
              "      <th>title</th>\n",
              "      <th>worldwide gross (m)</th>\n",
              "      <th>% budget recovered</th>\n",
              "      <th>X times budget recovered</th>\n",
              "      <th>budget  (millions)</th>\n",
              "      <th>domestic gross (m)</th>\n",
              "      <th>domestic %</th>\n",
              "      <th>international gross (m)</th>\n",
              "      <th>% of gross from international</th>\n",
              "      <th>worldwide gross</th>\n",
              "      <th>year</th>\n",
              "      <th>decade</th>\n",
              "      <th>source</th>\n",
              "      <th>budget source</th>\n",
              "      <th>force label</th>\n",
              "      <th>horror</th>\n",
              "    </tr>\n",
              "  </thead>\n",
              "  <tbody>\n",
              "    <tr>\n",
              "      <th>0</th>\n",
              "      <td>300</td>\n",
              "      <td>456.0</td>\n",
              "      <td>702%</td>\n",
              "      <td>7.0</td>\n",
              "      <td>65.0</td>\n",
              "      <td>211.0</td>\n",
              "      <td>46.2%</td>\n",
              "      <td>245</td>\n",
              "      <td>53.8%</td>\n",
              "      <td>456,082,343</td>\n",
              "      <td>2007</td>\n",
              "      <td>2000's</td>\n",
              "      <td>https://www.boxofficemojo.com/chart/ww_top_lif...</td>\n",
              "      <td>NaN</td>\n",
              "      <td>NaN</td>\n",
              "      <td>not horror</td>\n",
              "    </tr>\n",
              "    <tr>\n",
              "      <th>1</th>\n",
              "      <td>1917</td>\n",
              "      <td>385.0</td>\n",
              "      <td>427%</td>\n",
              "      <td>4.3</td>\n",
              "      <td>90.0</td>\n",
              "      <td>159.0</td>\n",
              "      <td>41.4%</td>\n",
              "      <td>225</td>\n",
              "      <td>58.6%</td>\n",
              "      <td>384,576,334</td>\n",
              "      <td>2019</td>\n",
              "      <td>2010's</td>\n",
              "      <td>https://www.boxofficemojo.com/chart/ww_top_lif...</td>\n",
              "      <td>https://www.nytimes.com/2020/01/12/movies/1917...</td>\n",
              "      <td>NaN</td>\n",
              "      <td>not horror</td>\n",
              "    </tr>\n",
              "    <tr>\n",
              "      <th>2</th>\n",
              "      <td>2012</td>\n",
              "      <td>791.0</td>\n",
              "      <td>396%</td>\n",
              "      <td>4.0</td>\n",
              "      <td>200.0</td>\n",
              "      <td>166.0</td>\n",
              "      <td>21.0%</td>\n",
              "      <td>625</td>\n",
              "      <td>79.0%</td>\n",
              "      <td>791,217,826</td>\n",
              "      <td>2009</td>\n",
              "      <td>2000's</td>\n",
              "      <td>https://www.boxofficemojo.com/chart/ww_top_lif...</td>\n",
              "      <td>NaN</td>\n",
              "      <td>NaN</td>\n",
              "      <td>not horror</td>\n",
              "    </tr>\n",
              "    <tr>\n",
              "      <th>3</th>\n",
              "      <td>101 Dalmatians</td>\n",
              "      <td>321.0</td>\n",
              "      <td>479%</td>\n",
              "      <td>4.8</td>\n",
              "      <td>67.0</td>\n",
              "      <td>136.0</td>\n",
              "      <td>42.5%</td>\n",
              "      <td>185</td>\n",
              "      <td>57.5%</td>\n",
              "      <td>320,689,294</td>\n",
              "      <td>1996</td>\n",
              "      <td>1990's</td>\n",
              "      <td>https://www.boxofficemojo.com/chart/ww_top_lif...</td>\n",
              "      <td>https://en.wikipedia.org/wiki/101_Dalmatians_(...</td>\n",
              "      <td>NaN</td>\n",
              "      <td>not horror</td>\n",
              "    </tr>\n",
              "    <tr>\n",
              "      <th>4</th>\n",
              "      <td>22 Jump Street</td>\n",
              "      <td>331.0</td>\n",
              "      <td>663%</td>\n",
              "      <td>6.6</td>\n",
              "      <td>50.0</td>\n",
              "      <td>192.0</td>\n",
              "      <td>57.9%</td>\n",
              "      <td>140</td>\n",
              "      <td>42.1%</td>\n",
              "      <td>331,333,876</td>\n",
              "      <td>2014</td>\n",
              "      <td>2010's</td>\n",
              "      <td>https://www.boxofficemojo.com/chart/ww_top_lif...</td>\n",
              "      <td>NaN</td>\n",
              "      <td>NaN</td>\n",
              "      <td>not horror</td>\n",
              "    </tr>\n",
              "  </tbody>\n",
              "</table>\n",
              "</div>\n",
              "    <div class=\"colab-df-buttons\">\n",
              "\n",
              "  <div class=\"colab-df-container\">\n",
              "    <button class=\"colab-df-convert\" onclick=\"convertToInteractive('df-cd93909e-18a3-4014-974c-b5b44dfa24ff')\"\n",
              "            title=\"Convert this dataframe to an interactive table.\"\n",
              "            style=\"display:none;\">\n",
              "\n",
              "  <svg xmlns=\"http://www.w3.org/2000/svg\" height=\"24px\" viewBox=\"0 -960 960 960\">\n",
              "    <path d=\"M120-120v-720h720v720H120Zm60-500h600v-160H180v160Zm220 220h160v-160H400v160Zm0 220h160v-160H400v160ZM180-400h160v-160H180v160Zm440 0h160v-160H620v160ZM180-180h160v-160H180v160Zm440 0h160v-160H620v160Z\"/>\n",
              "  </svg>\n",
              "    </button>\n",
              "\n",
              "  <style>\n",
              "    .colab-df-container {\n",
              "      display:flex;\n",
              "      gap: 12px;\n",
              "    }\n",
              "\n",
              "    .colab-df-convert {\n",
              "      background-color: #E8F0FE;\n",
              "      border: none;\n",
              "      border-radius: 50%;\n",
              "      cursor: pointer;\n",
              "      display: none;\n",
              "      fill: #1967D2;\n",
              "      height: 32px;\n",
              "      padding: 0 0 0 0;\n",
              "      width: 32px;\n",
              "    }\n",
              "\n",
              "    .colab-df-convert:hover {\n",
              "      background-color: #E2EBFA;\n",
              "      box-shadow: 0px 1px 2px rgba(60, 64, 67, 0.3), 0px 1px 3px 1px rgba(60, 64, 67, 0.15);\n",
              "      fill: #174EA6;\n",
              "    }\n",
              "\n",
              "    .colab-df-buttons div {\n",
              "      margin-bottom: 4px;\n",
              "    }\n",
              "\n",
              "    [theme=dark] .colab-df-convert {\n",
              "      background-color: #3B4455;\n",
              "      fill: #D2E3FC;\n",
              "    }\n",
              "\n",
              "    [theme=dark] .colab-df-convert:hover {\n",
              "      background-color: #434B5C;\n",
              "      box-shadow: 0px 1px 3px 1px rgba(0, 0, 0, 0.15);\n",
              "      filter: drop-shadow(0px 1px 2px rgba(0, 0, 0, 0.3));\n",
              "      fill: #FFFFFF;\n",
              "    }\n",
              "  </style>\n",
              "\n",
              "    <script>\n",
              "      const buttonEl =\n",
              "        document.querySelector('#df-cd93909e-18a3-4014-974c-b5b44dfa24ff button.colab-df-convert');\n",
              "      buttonEl.style.display =\n",
              "        google.colab.kernel.accessAllowed ? 'block' : 'none';\n",
              "\n",
              "      async function convertToInteractive(key) {\n",
              "        const element = document.querySelector('#df-cd93909e-18a3-4014-974c-b5b44dfa24ff');\n",
              "        const dataTable =\n",
              "          await google.colab.kernel.invokeFunction('convertToInteractive',\n",
              "                                                    [key], {});\n",
              "        if (!dataTable) return;\n",
              "\n",
              "        const docLinkHtml = 'Like what you see? Visit the ' +\n",
              "          '<a target=\"_blank\" href=https://colab.research.google.com/notebooks/data_table.ipynb>data table notebook</a>'\n",
              "          + ' to learn more about interactive tables.';\n",
              "        element.innerHTML = '';\n",
              "        dataTable['output_type'] = 'display_data';\n",
              "        await google.colab.output.renderOutput(dataTable, element);\n",
              "        const docLink = document.createElement('div');\n",
              "        docLink.innerHTML = docLinkHtml;\n",
              "        element.appendChild(docLink);\n",
              "      }\n",
              "    </script>\n",
              "  </div>\n",
              "\n",
              "\n",
              "<div id=\"df-1b1dcdb4-9aae-4fa7-8910-77a961e795a0\">\n",
              "  <button class=\"colab-df-quickchart\" onclick=\"quickchart('df-1b1dcdb4-9aae-4fa7-8910-77a961e795a0')\"\n",
              "            title=\"Suggest charts.\"\n",
              "            style=\"display:none;\">\n",
              "\n",
              "<svg xmlns=\"http://www.w3.org/2000/svg\" height=\"24px\"viewBox=\"0 0 24 24\"\n",
              "     width=\"24px\">\n",
              "    <g>\n",
              "        <path d=\"M19 3H5c-1.1 0-2 .9-2 2v14c0 1.1.9 2 2 2h14c1.1 0 2-.9 2-2V5c0-1.1-.9-2-2-2zM9 17H7v-7h2v7zm4 0h-2V7h2v10zm4 0h-2v-4h2v4z\"/>\n",
              "    </g>\n",
              "</svg>\n",
              "  </button>\n",
              "\n",
              "<style>\n",
              "  .colab-df-quickchart {\n",
              "    background-color: #E8F0FE;\n",
              "    border: none;\n",
              "    border-radius: 50%;\n",
              "    cursor: pointer;\n",
              "    display: none;\n",
              "    fill: #1967D2;\n",
              "    height: 32px;\n",
              "    padding: 0 0 0 0;\n",
              "    width: 32px;\n",
              "  }\n",
              "\n",
              "  .colab-df-quickchart:hover {\n",
              "    background-color: #E2EBFA;\n",
              "    box-shadow: 0px 1px 2px rgba(60, 64, 67, 0.3), 0px 1px 3px 1px rgba(60, 64, 67, 0.15);\n",
              "    fill: #174EA6;\n",
              "  }\n",
              "\n",
              "  [theme=dark] .colab-df-quickchart {\n",
              "    background-color: #3B4455;\n",
              "    fill: #D2E3FC;\n",
              "  }\n",
              "\n",
              "  [theme=dark] .colab-df-quickchart:hover {\n",
              "    background-color: #434B5C;\n",
              "    box-shadow: 0px 1px 3px 1px rgba(0, 0, 0, 0.15);\n",
              "    filter: drop-shadow(0px 1px 2px rgba(0, 0, 0, 0.3));\n",
              "    fill: #FFFFFF;\n",
              "  }\n",
              "</style>\n",
              "\n",
              "  <script>\n",
              "    async function quickchart(key) {\n",
              "      const charts = await google.colab.kernel.invokeFunction(\n",
              "          'suggestCharts', [key], {});\n",
              "    }\n",
              "    (() => {\n",
              "      let quickchartButtonEl =\n",
              "        document.querySelector('#df-1b1dcdb4-9aae-4fa7-8910-77a961e795a0 button');\n",
              "      quickchartButtonEl.style.display =\n",
              "        google.colab.kernel.accessAllowed ? 'block' : 'none';\n",
              "    })();\n",
              "  </script>\n",
              "</div>\n",
              "    </div>\n",
              "  </div>\n"
            ]
          },
          "metadata": {},
          "execution_count": 28
        }
      ]
    },
    {
      "cell_type": "code",
      "source": [
        "df.describe()"
      ],
      "metadata": {
        "colab": {
          "base_uri": "https://localhost:8080/",
          "height": 301
        },
        "id": "zKXHDdWMOzRt",
        "outputId": "a9ab325a-3c65-4032-ed91-ac943b4fbe12"
      },
      "execution_count": 29,
      "outputs": [
        {
          "output_type": "execute_result",
          "data": {
            "text/plain": [
              "       worldwide gross (m)  X times budget recovered  budget  (millions)  \\\n",
              "count           562.000000                562.000000          562.000000   \n",
              "mean            532.883986                 35.851957          108.460614   \n",
              "std             357.689672                549.759065           76.027601   \n",
              "min               4.000000                  1.300000            0.015000   \n",
              "25%             342.000000                  3.600000           43.250000   \n",
              "50%             432.000000                  5.250000          100.000000   \n",
              "75%             667.750000                 10.700000          165.000000   \n",
              "max            2923.000000              12933.300000          379.000000   \n",
              "\n",
              "       domestic gross (m)         year  \n",
              "count          562.000000   562.000000  \n",
              "mean           203.764591  2009.663701  \n",
              "std            130.964358     8.935443  \n",
              "min              3.900000  1973.000000  \n",
              "25%            125.000000  2005.000000  \n",
              "50%            177.000000  2012.000000  \n",
              "75%            251.000000  2016.000000  \n",
              "max            937.000000  2023.000000  "
            ],
            "text/html": [
              "\n",
              "  <div id=\"df-2ccb6cda-051e-4af1-a8ff-74b18731ff4a\" class=\"colab-df-container\">\n",
              "    <div>\n",
              "<style scoped>\n",
              "    .dataframe tbody tr th:only-of-type {\n",
              "        vertical-align: middle;\n",
              "    }\n",
              "\n",
              "    .dataframe tbody tr th {\n",
              "        vertical-align: top;\n",
              "    }\n",
              "\n",
              "    .dataframe thead th {\n",
              "        text-align: right;\n",
              "    }\n",
              "</style>\n",
              "<table border=\"1\" class=\"dataframe\">\n",
              "  <thead>\n",
              "    <tr style=\"text-align: right;\">\n",
              "      <th></th>\n",
              "      <th>worldwide gross (m)</th>\n",
              "      <th>X times budget recovered</th>\n",
              "      <th>budget  (millions)</th>\n",
              "      <th>domestic gross (m)</th>\n",
              "      <th>year</th>\n",
              "    </tr>\n",
              "  </thead>\n",
              "  <tbody>\n",
              "    <tr>\n",
              "      <th>count</th>\n",
              "      <td>562.000000</td>\n",
              "      <td>562.000000</td>\n",
              "      <td>562.000000</td>\n",
              "      <td>562.000000</td>\n",
              "      <td>562.000000</td>\n",
              "    </tr>\n",
              "    <tr>\n",
              "      <th>mean</th>\n",
              "      <td>532.883986</td>\n",
              "      <td>35.851957</td>\n",
              "      <td>108.460614</td>\n",
              "      <td>203.764591</td>\n",
              "      <td>2009.663701</td>\n",
              "    </tr>\n",
              "    <tr>\n",
              "      <th>std</th>\n",
              "      <td>357.689672</td>\n",
              "      <td>549.759065</td>\n",
              "      <td>76.027601</td>\n",
              "      <td>130.964358</td>\n",
              "      <td>8.935443</td>\n",
              "    </tr>\n",
              "    <tr>\n",
              "      <th>min</th>\n",
              "      <td>4.000000</td>\n",
              "      <td>1.300000</td>\n",
              "      <td>0.015000</td>\n",
              "      <td>3.900000</td>\n",
              "      <td>1973.000000</td>\n",
              "    </tr>\n",
              "    <tr>\n",
              "      <th>25%</th>\n",
              "      <td>342.000000</td>\n",
              "      <td>3.600000</td>\n",
              "      <td>43.250000</td>\n",
              "      <td>125.000000</td>\n",
              "      <td>2005.000000</td>\n",
              "    </tr>\n",
              "    <tr>\n",
              "      <th>50%</th>\n",
              "      <td>432.000000</td>\n",
              "      <td>5.250000</td>\n",
              "      <td>100.000000</td>\n",
              "      <td>177.000000</td>\n",
              "      <td>2012.000000</td>\n",
              "    </tr>\n",
              "    <tr>\n",
              "      <th>75%</th>\n",
              "      <td>667.750000</td>\n",
              "      <td>10.700000</td>\n",
              "      <td>165.000000</td>\n",
              "      <td>251.000000</td>\n",
              "      <td>2016.000000</td>\n",
              "    </tr>\n",
              "    <tr>\n",
              "      <th>max</th>\n",
              "      <td>2923.000000</td>\n",
              "      <td>12933.300000</td>\n",
              "      <td>379.000000</td>\n",
              "      <td>937.000000</td>\n",
              "      <td>2023.000000</td>\n",
              "    </tr>\n",
              "  </tbody>\n",
              "</table>\n",
              "</div>\n",
              "    <div class=\"colab-df-buttons\">\n",
              "\n",
              "  <div class=\"colab-df-container\">\n",
              "    <button class=\"colab-df-convert\" onclick=\"convertToInteractive('df-2ccb6cda-051e-4af1-a8ff-74b18731ff4a')\"\n",
              "            title=\"Convert this dataframe to an interactive table.\"\n",
              "            style=\"display:none;\">\n",
              "\n",
              "  <svg xmlns=\"http://www.w3.org/2000/svg\" height=\"24px\" viewBox=\"0 -960 960 960\">\n",
              "    <path d=\"M120-120v-720h720v720H120Zm60-500h600v-160H180v160Zm220 220h160v-160H400v160Zm0 220h160v-160H400v160ZM180-400h160v-160H180v160Zm440 0h160v-160H620v160ZM180-180h160v-160H180v160Zm440 0h160v-160H620v160Z\"/>\n",
              "  </svg>\n",
              "    </button>\n",
              "\n",
              "  <style>\n",
              "    .colab-df-container {\n",
              "      display:flex;\n",
              "      gap: 12px;\n",
              "    }\n",
              "\n",
              "    .colab-df-convert {\n",
              "      background-color: #E8F0FE;\n",
              "      border: none;\n",
              "      border-radius: 50%;\n",
              "      cursor: pointer;\n",
              "      display: none;\n",
              "      fill: #1967D2;\n",
              "      height: 32px;\n",
              "      padding: 0 0 0 0;\n",
              "      width: 32px;\n",
              "    }\n",
              "\n",
              "    .colab-df-convert:hover {\n",
              "      background-color: #E2EBFA;\n",
              "      box-shadow: 0px 1px 2px rgba(60, 64, 67, 0.3), 0px 1px 3px 1px rgba(60, 64, 67, 0.15);\n",
              "      fill: #174EA6;\n",
              "    }\n",
              "\n",
              "    .colab-df-buttons div {\n",
              "      margin-bottom: 4px;\n",
              "    }\n",
              "\n",
              "    [theme=dark] .colab-df-convert {\n",
              "      background-color: #3B4455;\n",
              "      fill: #D2E3FC;\n",
              "    }\n",
              "\n",
              "    [theme=dark] .colab-df-convert:hover {\n",
              "      background-color: #434B5C;\n",
              "      box-shadow: 0px 1px 3px 1px rgba(0, 0, 0, 0.15);\n",
              "      filter: drop-shadow(0px 1px 2px rgba(0, 0, 0, 0.3));\n",
              "      fill: #FFFFFF;\n",
              "    }\n",
              "  </style>\n",
              "\n",
              "    <script>\n",
              "      const buttonEl =\n",
              "        document.querySelector('#df-2ccb6cda-051e-4af1-a8ff-74b18731ff4a button.colab-df-convert');\n",
              "      buttonEl.style.display =\n",
              "        google.colab.kernel.accessAllowed ? 'block' : 'none';\n",
              "\n",
              "      async function convertToInteractive(key) {\n",
              "        const element = document.querySelector('#df-2ccb6cda-051e-4af1-a8ff-74b18731ff4a');\n",
              "        const dataTable =\n",
              "          await google.colab.kernel.invokeFunction('convertToInteractive',\n",
              "                                                    [key], {});\n",
              "        if (!dataTable) return;\n",
              "\n",
              "        const docLinkHtml = 'Like what you see? Visit the ' +\n",
              "          '<a target=\"_blank\" href=https://colab.research.google.com/notebooks/data_table.ipynb>data table notebook</a>'\n",
              "          + ' to learn more about interactive tables.';\n",
              "        element.innerHTML = '';\n",
              "        dataTable['output_type'] = 'display_data';\n",
              "        await google.colab.output.renderOutput(dataTable, element);\n",
              "        const docLink = document.createElement('div');\n",
              "        docLink.innerHTML = docLinkHtml;\n",
              "        element.appendChild(docLink);\n",
              "      }\n",
              "    </script>\n",
              "  </div>\n",
              "\n",
              "\n",
              "<div id=\"df-5b06a966-2b77-409d-bd4b-9e0843438d98\">\n",
              "  <button class=\"colab-df-quickchart\" onclick=\"quickchart('df-5b06a966-2b77-409d-bd4b-9e0843438d98')\"\n",
              "            title=\"Suggest charts.\"\n",
              "            style=\"display:none;\">\n",
              "\n",
              "<svg xmlns=\"http://www.w3.org/2000/svg\" height=\"24px\"viewBox=\"0 0 24 24\"\n",
              "     width=\"24px\">\n",
              "    <g>\n",
              "        <path d=\"M19 3H5c-1.1 0-2 .9-2 2v14c0 1.1.9 2 2 2h14c1.1 0 2-.9 2-2V5c0-1.1-.9-2-2-2zM9 17H7v-7h2v7zm4 0h-2V7h2v10zm4 0h-2v-4h2v4z\"/>\n",
              "    </g>\n",
              "</svg>\n",
              "  </button>\n",
              "\n",
              "<style>\n",
              "  .colab-df-quickchart {\n",
              "    background-color: #E8F0FE;\n",
              "    border: none;\n",
              "    border-radius: 50%;\n",
              "    cursor: pointer;\n",
              "    display: none;\n",
              "    fill: #1967D2;\n",
              "    height: 32px;\n",
              "    padding: 0 0 0 0;\n",
              "    width: 32px;\n",
              "  }\n",
              "\n",
              "  .colab-df-quickchart:hover {\n",
              "    background-color: #E2EBFA;\n",
              "    box-shadow: 0px 1px 2px rgba(60, 64, 67, 0.3), 0px 1px 3px 1px rgba(60, 64, 67, 0.15);\n",
              "    fill: #174EA6;\n",
              "  }\n",
              "\n",
              "  [theme=dark] .colab-df-quickchart {\n",
              "    background-color: #3B4455;\n",
              "    fill: #D2E3FC;\n",
              "  }\n",
              "\n",
              "  [theme=dark] .colab-df-quickchart:hover {\n",
              "    background-color: #434B5C;\n",
              "    box-shadow: 0px 1px 3px 1px rgba(0, 0, 0, 0.15);\n",
              "    filter: drop-shadow(0px 1px 2px rgba(0, 0, 0, 0.3));\n",
              "    fill: #FFFFFF;\n",
              "  }\n",
              "</style>\n",
              "\n",
              "  <script>\n",
              "    async function quickchart(key) {\n",
              "      const charts = await google.colab.kernel.invokeFunction(\n",
              "          'suggestCharts', [key], {});\n",
              "    }\n",
              "    (() => {\n",
              "      let quickchartButtonEl =\n",
              "        document.querySelector('#df-5b06a966-2b77-409d-bd4b-9e0843438d98 button');\n",
              "      quickchartButtonEl.style.display =\n",
              "        google.colab.kernel.accessAllowed ? 'block' : 'none';\n",
              "    })();\n",
              "  </script>\n",
              "</div>\n",
              "    </div>\n",
              "  </div>\n"
            ]
          },
          "metadata": {},
          "execution_count": 29
        }
      ]
    },
    {
      "cell_type": "code",
      "source": [
        "df.info()"
      ],
      "metadata": {
        "colab": {
          "base_uri": "https://localhost:8080/"
        },
        "id": "_KkGqHPrOzPi",
        "outputId": "0f42421e-eea0-46d8-f342-cc3979d9fd16"
      },
      "execution_count": 31,
      "outputs": [
        {
          "output_type": "stream",
          "name": "stdout",
          "text": [
            "<class 'pandas.core.frame.DataFrame'>\n",
            "RangeIndex: 562 entries, 0 to 561\n",
            "Data columns (total 16 columns):\n",
            " #   Column                         Non-Null Count  Dtype  \n",
            "---  ------                         --------------  -----  \n",
            " 0   title                          562 non-null    object \n",
            " 1   worldwide gross (m)            562 non-null    float64\n",
            " 2   % budget recovered             562 non-null    object \n",
            " 3   X times budget recovered       562 non-null    float64\n",
            " 4   budget  (millions)             562 non-null    float64\n",
            " 5   domestic gross (m)             562 non-null    float64\n",
            " 6   domestic %                     562 non-null    object \n",
            " 7   international gross (m)        562 non-null    object \n",
            " 8   % of gross from international  562 non-null    object \n",
            " 9   worldwide gross                562 non-null    object \n",
            " 10  year                           562 non-null    int64  \n",
            " 11  decade                         562 non-null    object \n",
            " 12  source                         481 non-null    object \n",
            " 13  budget source                  399 non-null    object \n",
            " 14  force label                    5 non-null      object \n",
            " 15  horror                         562 non-null    object \n",
            "dtypes: float64(4), int64(1), object(11)\n",
            "memory usage: 70.4+ KB\n"
          ]
        }
      ]
    },
    {
      "cell_type": "code",
      "source": [
        "df.dtypes"
      ],
      "metadata": {
        "colab": {
          "base_uri": "https://localhost:8080/"
        },
        "id": "84gaXt2STps_",
        "outputId": "57a6ec9a-fe0b-41a9-c8a6-f16457063491"
      },
      "execution_count": 34,
      "outputs": [
        {
          "output_type": "execute_result",
          "data": {
            "text/plain": [
              "title                             object\n",
              "worldwide gross (m)              float64\n",
              "% budget recovered                object\n",
              "X times budget recovered         float64\n",
              "budget  (millions)               float64\n",
              "domestic gross (m)               float64\n",
              "domestic %                        object\n",
              "international gross (m)           object\n",
              "% of gross from international     object\n",
              "worldwide gross                   object\n",
              "year                               int64\n",
              "decade                            object\n",
              "source                            object\n",
              "budget source                     object\n",
              "force label                       object\n",
              "horror                            object\n",
              "dtype: object"
            ]
          },
          "metadata": {},
          "execution_count": 34
        }
      ]
    },
    {
      "cell_type": "code",
      "source": [
        "#Verificando a quantidade de linhas duplicadas\n",
        "duplicatas = df[df.duplicated()]\n",
        "\n",
        "soma_duplicatas = duplicatas.groupby(duplicatas.columns.tolist()).sum()\n",
        "\n",
        "print(soma_duplicatas)"
      ],
      "metadata": {
        "colab": {
          "base_uri": "https://localhost:8080/"
        },
        "id": "PVmiaLw2UKk3",
        "outputId": "154dea92-13f6-4fd8-8c54-fe5717afe05a"
      },
      "execution_count": 35,
      "outputs": [
        {
          "output_type": "stream",
          "name": "stdout",
          "text": [
            "Empty DataFrame\n",
            "Columns: []\n",
            "Index: []\n"
          ]
        }
      ]
    },
    {
      "cell_type": "code",
      "source": [
        "##Porcentagem de valores nulos em todas as variáveis\n",
        "porcentagem_nulos = (df.isnull().sum() / len(df)) * 100\n",
        "\n",
        "with pd.option_context('display.max_rows', None):\n",
        " print(porcentagem_nulos)"
      ],
      "metadata": {
        "colab": {
          "base_uri": "https://localhost:8080/"
        },
        "id": "cgboJExzUOUX",
        "outputId": "5cad4ca6-72a0-407e-ddf5-cb924fba9923"
      },
      "execution_count": 36,
      "outputs": [
        {
          "output_type": "stream",
          "name": "stdout",
          "text": [
            "title                             0.000000\n",
            "worldwide gross (m)               0.000000\n",
            "% budget recovered                0.000000\n",
            "X times budget recovered          0.000000\n",
            "budget  (millions)                0.000000\n",
            "domestic gross (m)                0.000000\n",
            "domestic %                        0.000000\n",
            "international gross (m)           0.000000\n",
            "% of gross from international     0.000000\n",
            "worldwide gross                   0.000000\n",
            "year                              0.000000\n",
            "decade                            0.000000\n",
            "source                           14.412811\n",
            "budget source                    29.003559\n",
            "force label                      99.110320\n",
            "horror                            0.000000\n",
            "dtype: float64\n"
          ]
        }
      ]
    },
    {
      "cell_type": "code",
      "source": [
        "##Transformando as variáveis em uma array\n",
        "df.columns.values"
      ],
      "metadata": {
        "colab": {
          "base_uri": "https://localhost:8080/"
        },
        "id": "b9ugatINUKY4",
        "outputId": "f9a98549-7c9a-4e66-f3e5-dd6c449b49a1"
      },
      "execution_count": 38,
      "outputs": [
        {
          "output_type": "execute_result",
          "data": {
            "text/plain": [
              "array(['title ', 'worldwide gross (m)', '% budget recovered',\n",
              "       'X times budget recovered', 'budget  (millions)',\n",
              "       'domestic gross (m)', 'domestic %', 'international gross (m)',\n",
              "       '% of gross from international', 'worldwide gross', 'year',\n",
              "       'decade', 'source', 'budget source', 'force label', 'horror'],\n",
              "      dtype=object)"
            ]
          },
          "metadata": {},
          "execution_count": 38
        }
      ]
    },
    {
      "cell_type": "code",
      "source": [
        "#Criando novo dataset para análise"
      ],
      "metadata": {
        "id": "F3bhTMxLUKWY"
      },
      "execution_count": null,
      "outputs": []
    },
    {
      "cell_type": "code",
      "source": [
        "#Criando uma variável com as colunas que irei trabalhar\n",
        "col_df1 = ['title ', 'worldwide gross (m)', '% budget recovered',\n",
        "       'X times budget recovered', 'budget  (millions)',\n",
        "       'domestic gross (m)', 'domestic %', 'international gross (m)',\n",
        "       '% of gross from international', 'worldwide gross', 'year',\n",
        "       'decade', 'source', 'budget source', 'force label', 'horror']"
      ],
      "metadata": {
        "id": "fzHtbBjUVRwG"
      },
      "execution_count": null,
      "outputs": []
    },
    {
      "cell_type": "code",
      "source": [
        "#Criando um novo df com as colunas de Perfil do Usuário\n",
        "df1 = df.filter(items = col_df1)"
      ],
      "metadata": {
        "id": "RecVMAlToTRH"
      },
      "execution_count": null,
      "outputs": []
    },
    {
      "cell_type": "code",
      "source": [
        "#Verificando correlação entre as variáveis\n",
        "df[col_df1].corr()"
      ],
      "metadata": {
        "colab": {
          "base_uri": "https://localhost:8080/",
          "height": 293
        },
        "id": "AYet1I0KI0dG",
        "outputId": "2e909fff-d06e-4f95-e7c9-b1e00e5b0bc9"
      },
      "execution_count": null,
      "outputs": [
        {
          "output_type": "stream",
          "name": "stderr",
          "text": [
            "<ipython-input-14-a2dc16a9aaf3>:1: FutureWarning: The default value of numeric_only in DataFrame.corr is deprecated. In a future version, it will default to False. Select only valid columns or specify the value of numeric_only to silence this warning.\n",
            "  df[colunas_df1].corr()\n"
          ]
        },
        {
          "output_type": "execute_result",
          "data": {
            "text/plain": [
              "                           Wave  Customer ID  Super Boost  \\\n",
              "Wave                   1.000000     0.183867    -0.064179   \n",
              "Customer ID            0.183867     1.000000     0.009093   \n",
              "Super Boost           -0.064179     0.009093     1.000000   \n",
              "First purchase Amount  0.043677     0.032498     0.009675   \n",
              "Value Tier            -0.633863    -0.054847     0.023446   \n",
              "Number of Games        0.069173     0.042024    -0.079833   \n",
              "\n",
              "                       First purchase Amount  Value Tier  Number of Games  \n",
              "Wave                                0.043677   -0.633863         0.069173  \n",
              "Customer ID                         0.032498   -0.054847         0.042024  \n",
              "Super Boost                         0.009675    0.023446        -0.079833  \n",
              "First purchase Amount               1.000000   -0.045117         0.048375  \n",
              "Value Tier                         -0.045117    1.000000        -0.030371  \n",
              "Number of Games                     0.048375   -0.030371         1.000000  "
            ],
            "text/html": [
              "\n",
              "  <div id=\"df-97672ac3-2a40-486a-98a4-73a13ff13f64\">\n",
              "    <div class=\"colab-df-container\">\n",
              "      <div>\n",
              "<style scoped>\n",
              "    .dataframe tbody tr th:only-of-type {\n",
              "        vertical-align: middle;\n",
              "    }\n",
              "\n",
              "    .dataframe tbody tr th {\n",
              "        vertical-align: top;\n",
              "    }\n",
              "\n",
              "    .dataframe thead th {\n",
              "        text-align: right;\n",
              "    }\n",
              "</style>\n",
              "<table border=\"1\" class=\"dataframe\">\n",
              "  <thead>\n",
              "    <tr style=\"text-align: right;\">\n",
              "      <th></th>\n",
              "      <th>Wave</th>\n",
              "      <th>Customer ID</th>\n",
              "      <th>Super Boost</th>\n",
              "      <th>First purchase Amount</th>\n",
              "      <th>Value Tier</th>\n",
              "      <th>Number of Games</th>\n",
              "    </tr>\n",
              "  </thead>\n",
              "  <tbody>\n",
              "    <tr>\n",
              "      <th>Wave</th>\n",
              "      <td>1.000000</td>\n",
              "      <td>0.183867</td>\n",
              "      <td>-0.064179</td>\n",
              "      <td>0.043677</td>\n",
              "      <td>-0.633863</td>\n",
              "      <td>0.069173</td>\n",
              "    </tr>\n",
              "    <tr>\n",
              "      <th>Customer ID</th>\n",
              "      <td>0.183867</td>\n",
              "      <td>1.000000</td>\n",
              "      <td>0.009093</td>\n",
              "      <td>0.032498</td>\n",
              "      <td>-0.054847</td>\n",
              "      <td>0.042024</td>\n",
              "    </tr>\n",
              "    <tr>\n",
              "      <th>Super Boost</th>\n",
              "      <td>-0.064179</td>\n",
              "      <td>0.009093</td>\n",
              "      <td>1.000000</td>\n",
              "      <td>0.009675</td>\n",
              "      <td>0.023446</td>\n",
              "      <td>-0.079833</td>\n",
              "    </tr>\n",
              "    <tr>\n",
              "      <th>First purchase Amount</th>\n",
              "      <td>0.043677</td>\n",
              "      <td>0.032498</td>\n",
              "      <td>0.009675</td>\n",
              "      <td>1.000000</td>\n",
              "      <td>-0.045117</td>\n",
              "      <td>0.048375</td>\n",
              "    </tr>\n",
              "    <tr>\n",
              "      <th>Value Tier</th>\n",
              "      <td>-0.633863</td>\n",
              "      <td>-0.054847</td>\n",
              "      <td>0.023446</td>\n",
              "      <td>-0.045117</td>\n",
              "      <td>1.000000</td>\n",
              "      <td>-0.030371</td>\n",
              "    </tr>\n",
              "    <tr>\n",
              "      <th>Number of Games</th>\n",
              "      <td>0.069173</td>\n",
              "      <td>0.042024</td>\n",
              "      <td>-0.079833</td>\n",
              "      <td>0.048375</td>\n",
              "      <td>-0.030371</td>\n",
              "      <td>1.000000</td>\n",
              "    </tr>\n",
              "  </tbody>\n",
              "</table>\n",
              "</div>\n",
              "      <button class=\"colab-df-convert\" onclick=\"convertToInteractive('df-97672ac3-2a40-486a-98a4-73a13ff13f64')\"\n",
              "              title=\"Convert this dataframe to an interactive table.\"\n",
              "              style=\"display:none;\">\n",
              "        \n",
              "  <svg xmlns=\"http://www.w3.org/2000/svg\" height=\"24px\"viewBox=\"0 0 24 24\"\n",
              "       width=\"24px\">\n",
              "    <path d=\"M0 0h24v24H0V0z\" fill=\"none\"/>\n",
              "    <path d=\"M18.56 5.44l.94 2.06.94-2.06 2.06-.94-2.06-.94-.94-2.06-.94 2.06-2.06.94zm-11 1L8.5 8.5l.94-2.06 2.06-.94-2.06-.94L8.5 2.5l-.94 2.06-2.06.94zm10 10l.94 2.06.94-2.06 2.06-.94-2.06-.94-.94-2.06-.94 2.06-2.06.94z\"/><path d=\"M17.41 7.96l-1.37-1.37c-.4-.4-.92-.59-1.43-.59-.52 0-1.04.2-1.43.59L10.3 9.45l-7.72 7.72c-.78.78-.78 2.05 0 2.83L4 21.41c.39.39.9.59 1.41.59.51 0 1.02-.2 1.41-.59l7.78-7.78 2.81-2.81c.8-.78.8-2.07 0-2.86zM5.41 20L4 18.59l7.72-7.72 1.47 1.35L5.41 20z\"/>\n",
              "  </svg>\n",
              "      </button>\n",
              "      \n",
              "  <style>\n",
              "    .colab-df-container {\n",
              "      display:flex;\n",
              "      flex-wrap:wrap;\n",
              "      gap: 12px;\n",
              "    }\n",
              "\n",
              "    .colab-df-convert {\n",
              "      background-color: #E8F0FE;\n",
              "      border: none;\n",
              "      border-radius: 50%;\n",
              "      cursor: pointer;\n",
              "      display: none;\n",
              "      fill: #1967D2;\n",
              "      height: 32px;\n",
              "      padding: 0 0 0 0;\n",
              "      width: 32px;\n",
              "    }\n",
              "\n",
              "    .colab-df-convert:hover {\n",
              "      background-color: #E2EBFA;\n",
              "      box-shadow: 0px 1px 2px rgba(60, 64, 67, 0.3), 0px 1px 3px 1px rgba(60, 64, 67, 0.15);\n",
              "      fill: #174EA6;\n",
              "    }\n",
              "\n",
              "    [theme=dark] .colab-df-convert {\n",
              "      background-color: #3B4455;\n",
              "      fill: #D2E3FC;\n",
              "    }\n",
              "\n",
              "    [theme=dark] .colab-df-convert:hover {\n",
              "      background-color: #434B5C;\n",
              "      box-shadow: 0px 1px 3px 1px rgba(0, 0, 0, 0.15);\n",
              "      filter: drop-shadow(0px 1px 2px rgba(0, 0, 0, 0.3));\n",
              "      fill: #FFFFFF;\n",
              "    }\n",
              "  </style>\n",
              "\n",
              "      <script>\n",
              "        const buttonEl =\n",
              "          document.querySelector('#df-97672ac3-2a40-486a-98a4-73a13ff13f64 button.colab-df-convert');\n",
              "        buttonEl.style.display =\n",
              "          google.colab.kernel.accessAllowed ? 'block' : 'none';\n",
              "\n",
              "        async function convertToInteractive(key) {\n",
              "          const element = document.querySelector('#df-97672ac3-2a40-486a-98a4-73a13ff13f64');\n",
              "          const dataTable =\n",
              "            await google.colab.kernel.invokeFunction('convertToInteractive',\n",
              "                                                     [key], {});\n",
              "          if (!dataTable) return;\n",
              "\n",
              "          const docLinkHtml = 'Like what you see? Visit the ' +\n",
              "            '<a target=\"_blank\" href=https://colab.research.google.com/notebooks/data_table.ipynb>data table notebook</a>'\n",
              "            + ' to learn more about interactive tables.';\n",
              "          element.innerHTML = '';\n",
              "          dataTable['output_type'] = 'display_data';\n",
              "          await google.colab.output.renderOutput(dataTable, element);\n",
              "          const docLink = document.createElement('div');\n",
              "          docLink.innerHTML = docLinkHtml;\n",
              "          element.appendChild(docLink);\n",
              "        }\n",
              "      </script>\n",
              "    </div>\n",
              "  </div>\n",
              "  "
            ]
          },
          "metadata": {},
          "execution_count": 14
        }
      ]
    },
    {
      "cell_type": "code",
      "source": [
        "sns.distplot(df['year'], bins = 5, color = 'orange', label = 'KDE')\n",
        "plt.legend()\n",
        "plt.gcf().set_size_inches(12, 5)"
      ],
      "metadata": {
        "colab": {
          "base_uri": "https://localhost:8080/",
          "height": 656
        },
        "id": "7aGvlsUbTPXN",
        "outputId": "4f7018c6-e897-4f0f-f4ed-94b67781a40e"
      },
      "execution_count": 33,
      "outputs": [
        {
          "output_type": "stream",
          "name": "stderr",
          "text": [
            "<ipython-input-33-683941a57545>:1: UserWarning: \n",
            "\n",
            "`distplot` is a deprecated function and will be removed in seaborn v0.14.0.\n",
            "\n",
            "Please adapt your code to use either `displot` (a figure-level function with\n",
            "similar flexibility) or `histplot` (an axes-level function for histograms).\n",
            "\n",
            "For a guide to updating your code to use the new functions, please see\n",
            "https://gist.github.com/mwaskom/de44147ed2974457ad6372750bbe5751\n",
            "\n",
            "  sns.distplot(df['year'], bins = 5, color = 'orange', label = 'KDE')\n"
          ]
        },
        {
          "output_type": "display_data",
          "data": {
            "text/plain": [
              "<Figure size 1200x500 with 1 Axes>"
            ],
            "image/png": "[encoded data removed]"
          },
          "metadata": {}
        }
      ]
    },
    {
      "cell_type": "markdown",
      "source": [
        "##Primeiras Conclusões"
      ],
      "metadata": {
        "id": "CFhiEXSXTG4L"
      }
    },
    {
      "cell_type": "code",
      "source": [],
      "metadata": {
        "id": "MmGIXLG1OzM9"
      },
      "execution_count": null,
      "outputs": []
    }
  ]
}